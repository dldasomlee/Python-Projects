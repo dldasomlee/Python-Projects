{
 "cells": [
  {
   "cell_type": "markdown",
   "metadata": {},
   "source": [
    "## Read data\n",
    "My big goal that I want to achieve from this practice is learning how to manipulate DataFrames using pandas and calculate statistics."
   ]
  },
  {
   "cell_type": "code",
   "execution_count": 1,
   "metadata": {
    "collapsed": false
   },
   "outputs": [
    {
     "name": "stdout",
     "output_type": "stream",
     "text": [
      "   Major_code                                  Major  \\\n",
      "0        1100                    GENERAL AGRICULTURE   \n",
      "1        1101  AGRICULTURE PRODUCTION AND MANAGEMENT   \n",
      "2        1102                 AGRICULTURAL ECONOMICS   \n",
      "3        1103                        ANIMAL SCIENCES   \n",
      "4        1104                           FOOD SCIENCE   \n",
      "\n",
      "                    Major_category   Total  Employed  \\\n",
      "0  Agriculture & Natural Resources  128148     90245   \n",
      "1  Agriculture & Natural Resources   95326     76865   \n",
      "2  Agriculture & Natural Resources   33955     26321   \n",
      "3  Agriculture & Natural Resources  103549     81177   \n",
      "4  Agriculture & Natural Resources   24280     17281   \n",
      "\n",
      "   Employed_full_time_year_round  Unemployed  Unemployment_rate  Median  \\\n",
      "0                          74078        2423           0.026147   50000   \n",
      "1                          64240        2266           0.028636   54000   \n",
      "2                          22810         821           0.030248   63000   \n",
      "3                          64937        3619           0.042679   46000   \n",
      "4                          12722         894           0.049188   62000   \n",
      "\n",
      "   P25th    P75th  \n",
      "0  34000  80000.0  \n",
      "1  36000  80000.0  \n",
      "2  40000  98000.0  \n",
      "3  30000  72000.0  \n",
      "4  38500  90000.0  \n",
      "   Rank  Major_code                                      Major Major_category  \\\n",
      "0     1        2419                      PETROLEUM ENGINEERING    Engineering   \n",
      "1     2        2416             MINING AND MINERAL ENGINEERING    Engineering   \n",
      "2     3        2415                  METALLURGICAL ENGINEERING    Engineering   \n",
      "3     4        2417  NAVAL ARCHITECTURE AND MARINE ENGINEERING    Engineering   \n",
      "4     5        2405                       CHEMICAL ENGINEERING    Engineering   \n",
      "\n",
      "   Total  Sample_size    Men  Women  ShareWomen  Employed      ...        \\\n",
      "0   2339           36   2057    282    0.120564      1976      ...         \n",
      "1    756            7    679     77    0.101852       640      ...         \n",
      "2    856            3    725    131    0.153037       648      ...         \n",
      "3   1258           16   1123    135    0.107313       758      ...         \n",
      "4  32260          289  21239  11021    0.341631     25694      ...         \n",
      "\n",
      "   Part_time  Full_time_year_round  Unemployed  Unemployment_rate  Median  \\\n",
      "0        270                  1207          37           0.018381  110000   \n",
      "1        170                   388          85           0.117241   75000   \n",
      "2        133                   340          16           0.024096   73000   \n",
      "3        150                   692          40           0.050125   70000   \n",
      "4       5180                 16697        1672           0.061098   65000   \n",
      "\n",
      "   P25th   P75th  College_jobs  Non_college_jobs  Low_wage_jobs  \n",
      "0  95000  125000          1534               364            193  \n",
      "1  55000   90000           350               257             50  \n",
      "2  50000  105000           456               176              0  \n",
      "3  43000   80000           529               102              0  \n",
      "4  50000   75000         18314              4440            972  \n",
      "\n",
      "[5 rows x 21 columns]\n"
     ]
    }
   ],
   "source": [
    "#read files\n",
    "import pandas as pd\n",
    "all_ages = pd.read_csv(\"all-ages.csv\")\n",
    "recent_grads = pd.read_csv(\"recent-grads.csv\")\n",
    "print(all_ages.head(5))\n",
    "print(recent_grads.head(5))"
   ]
  },
  {
   "cell_type": "markdown",
   "metadata": {},
   "source": [
    "## Summarize categories\n",
    "1. By summarizing categories, I will see the number of people in each 'Major_category'."
   ]
  },
  {
   "cell_type": "code",
   "execution_count": 2,
   "metadata": {
    "collapsed": false
   },
   "outputs": [
    {
     "name": "stdout",
     "output_type": "stream",
     "text": [
      "['Agriculture & Natural Resources' 'Biology & Life Science' 'Engineering'\n",
      " 'Humanities & Liberal Arts' 'Communications & Journalism'\n",
      " 'Computers & Mathematics' 'Industrial Arts & Consumer Services'\n",
      " 'Education' 'Law & Public Policy' 'Interdisciplinary' 'Health'\n",
      " 'Social Science' 'Physical Sciences' 'Psychology & Social Work' 'Arts'\n",
      " 'Business']\n"
     ]
    }
   ],
   "source": [
    "#summarize categories\n",
    "print(all_ages['Major_category'].unique())"
   ]
  },
  {
   "cell_type": "code",
   "execution_count": 3,
   "metadata": {
    "collapsed": true
   },
   "outputs": [],
   "source": [
    "#for the counts from all_ages, store the results as a dictionary named aa_cat_counts\n",
    "#for the counts from recent_grads, store the results as a dictionary named rg_cat_counts\n",
    "aa_cat_counts = dict()\n",
    "rg_cat_counts = dict()\n",
    "def calculate_major_cat_totals(df):\n",
    "    # return the unique values \n",
    "    cats = df['Major_category'].unique()\n",
    "    # store the result as a separate dictoinary\n",
    "    counts_dictionary = dict()\n",
    "\n",
    "    for c in cats:\n",
    "        major_df = df[df[\"Major_category\"] == c]\n",
    "        # calculate the total number of students\n",
    "        total = major_df[\"Total\"].sum()\n",
    "        counts_dictionary[c] = total\n",
    "    return counts_dictionary\n",
    "aa_cat_counts = calculate_major_cat_totals(all_ages)\n",
    "rg_cat_counts = calculate_major_cat_totals(recent_grads)"
   ]
  },
  {
   "cell_type": "markdown",
   "metadata": {},
   "source": [
    "## Data exploration\n",
    "1. Use the 'Low_wage_jobs' and 'Total' colums to find the number of college graduates workign low-pay."
   ]
  },
  {
   "cell_type": "code",
   "execution_count": 5,
   "metadata": {
    "collapsed": false
   },
   "outputs": [
    {
     "name": "stdout",
     "output_type": "stream",
     "text": [
      "0.09852546076122913\n"
     ]
    }
   ],
   "source": [
    "low_wage_percent = 0.0\n",
    "# use series.sum() to return the sum of values\n",
    "low_wage_jobs_sum = recent_grads['Low_wage_jobs'].sum()\n",
    "recent_grads_sum = recent_grads['Total'].sum()\n",
    "# Calculate the proportion of recent graduates who worked low wage jobs\n",
    "low_wage_percent = low_wage_jobs_sum / recent_grads_sum\n",
    "print(low_wage_percent)"
   ]
  },
  {
   "cell_type": "markdown",
   "metadata": {},
   "source": [
    "Finding: Approx. 9.8% of recent graduates took on a low wage job."
   ]
  },
  {
   "cell_type": "markdown",
   "metadata": {},
   "source": [
    "## Comparing data sets\n",
    "1. Let's do comparison between 'recent_grads' and 'all_ages' to see how recent grads did better than the overall population. "
   ]
  },
  {
   "cell_type": "code",
   "execution_count": 6,
   "metadata": {
    "collapsed": false
   },
   "outputs": [
    {
     "name": "stdout",
     "output_type": "stream",
     "text": [
      "43\n"
     ]
    }
   ],
   "source": [
    "# All majors, common to both DataFrames\n",
    "majors = recent_grads['Major'].unique()\n",
    "rg_lower_count = 0\n",
    "# Use a for loop to iterate over majors\n",
    "for m in majors:\n",
    "    # Find the corresponding row in both DataFrames\n",
    "    recent_grads_row = recent_grads[recent_grads['Major'] == m]\n",
    "    all_ages_row = all_ages[all_ages['Major'] == m]\n",
    "    \n",
    "    rg_unemp_rate = recent_grads_row.iloc[0]['Unemployment_rate']\n",
    "    aa_unemp_rate = all_ages_row.iloc[0]['Unemployment_rate']\n",
    "    # increment 'rg_unemp_rate' if the value in 'unemployment_rate' is lower for 'recent_grads' than it is for 'all_ages'\n",
    "    if rg_unemp_rate < aa_unemp_rate:\n",
    "        rg_lower_count += 1\n",
    "\n",
    "print(rg_lower_count)"
   ]
  },
  {
   "cell_type": "markdown",
   "metadata": {
    "collapsed": true
   },
   "source": [
    "Conclusion: Recent graduates who stuided 43 majors (out of 173 majors) had lower unemployment rates than the general population "
   ]
  }
 ],
 "metadata": {
  "anaconda-cloud": {},
  "kernelspec": {
   "display_name": "Python [conda root]",
   "language": "python",
   "name": "conda-root-py"
  },
  "language_info": {
   "codemirror_mode": {
    "name": "ipython",
    "version": 3
   },
   "file_extension": ".py",
   "mimetype": "text/x-python",
   "name": "python",
   "nbconvert_exporter": "python",
   "pygments_lexer": "ipython3",
   "version": "3.5.2"
  }
 },
 "nbformat": 4,
 "nbformat_minor": 1
}
