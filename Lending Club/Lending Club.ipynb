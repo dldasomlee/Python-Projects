{
 "cells": [
  {
   "cell_type": "markdown",
   "metadata": {},
   "source": [
    "# Data cleaning"
   ]
  },
  {
   "cell_type": "markdown",
   "metadata": {},
   "source": [
    "## Read data\n",
    "1. loans_2007.csv is a filtered data set from the raw data set 'LoanStats3a.csv'. Because the original data is too big to read, some information is cut down on purpose, such as the 'desc' and 'url' column."
   ]
  },
  {
   "cell_type": "code",
   "execution_count": 10,
   "metadata": {
    "collapsed": false
   },
   "outputs": [
    {
     "name": "stdout",
     "output_type": "stream",
     "text": [
      "id                                1077501\n",
      "member_id                      1.2966e+06\n",
      "loan_amnt                            5000\n",
      "funded_amnt                          5000\n",
      "funded_amnt_inv                      4975\n",
      "term                            36 months\n",
      "int_rate                           10.65%\n",
      "installment                        162.87\n",
      "grade                                   B\n",
      "sub_grade                              B2\n",
      "emp_title                             NaN\n",
      "emp_length                      10+ years\n",
      "home_ownership                       RENT\n",
      "annual_inc                          24000\n",
      "verification_status              Verified\n",
      "issue_d                          Dec-2011\n",
      "loan_status                    Fully Paid\n",
      "pymnt_plan                              n\n",
      "purpose                       credit_card\n",
      "title                            Computer\n",
      "zip_code                            860xx\n",
      "addr_state                             AZ\n",
      "dti                                 27.65\n",
      "delinq_2yrs                             0\n",
      "earliest_cr_line                 Jan-1985\n",
      "inq_last_6mths                          1\n",
      "open_acc                                3\n",
      "pub_rec                                 0\n",
      "revol_bal                           13648\n",
      "revol_util                          83.7%\n",
      "total_acc                               9\n",
      "initial_list_status                     f\n",
      "out_prncp                               0\n",
      "out_prncp_inv                           0\n",
      "total_pymnt                       5863.16\n",
      "total_pymnt_inv                   5833.84\n",
      "total_rec_prncp                      5000\n",
      "total_rec_int                      863.16\n",
      "total_rec_late_fee                      0\n",
      "recoveries                              0\n",
      "collection_recovery_fee                 0\n",
      "last_pymnt_d                     Jan-2015\n",
      "last_pymnt_amnt                    171.62\n",
      "last_credit_pull_d               Jun-2016\n",
      "collections_12_mths_ex_med              0\n",
      "policy_code                             1\n",
      "application_type               INDIVIDUAL\n",
      "acc_now_delinq                          0\n",
      "chargeoff_within_12_mths                0\n",
      "delinq_amnt                             0\n",
      "pub_rec_bankruptcies                    0\n",
      "tax_liens                               0\n",
      "Name: 0, dtype: object\n",
      "52\n"
     ]
    }
   ],
   "source": [
    "import pandas as pd\n",
    "#Read data\n",
    "loans_2007 = pd.read_csv('loans_2007.csv', low_memory=False)\n",
    "loans_2007.drop_duplicates()\n",
    "#Display the first ow of 'loans_2007' and the number of columns in 'loans_2007'\n",
    "print(loans_2007.iloc[0])\n",
    "print(loans_2007.shape[1])"
   ]
  },
  {
   "cell_type": "markdown",
   "metadata": {},
   "source": [
    "## Delete extra\n",
    "1. Let's delete more columns since too many columns can oerfit the model.  To do this, go through the dictionary to find useful columns. "
   ]
  },
  {
   "cell_type": "code",
   "execution_count": 11,
   "metadata": {
    "collapsed": true
   },
   "outputs": [],
   "source": [
    "#Working on deleteing columns\n",
    "loans_2007 = loans_2007.drop([\"id\", \"member_id\", \"funded_amnt\", \"funded_amnt_inv\", \"grade\", \"sub_grade\", \"emp_title\", \"issue_d\"], axis=1)"
   ]
  },
  {
   "cell_type": "code",
   "execution_count": 12,
   "metadata": {
    "collapsed": true
   },
   "outputs": [],
   "source": [
    "#Working on deleteing columns\n",
    "loans_2007 = loans_2007.drop([\"zip_code\", \"out_prncp\", \"out_prncp_inv\", \"total_pymnt\", \"total_pymnt_inv\", \"total_rec_prncp\"], axis=1)"
   ]
  },
  {
   "cell_type": "code",
   "execution_count": 13,
   "metadata": {
    "collapsed": false
   },
   "outputs": [
    {
     "name": "stdout",
     "output_type": "stream",
     "text": [
      "loan_amnt                            5000\n",
      "term                            36 months\n",
      "int_rate                           10.65%\n",
      "installment                        162.87\n",
      "emp_length                      10+ years\n",
      "home_ownership                       RENT\n",
      "annual_inc                          24000\n",
      "verification_status              Verified\n",
      "loan_status                    Fully Paid\n",
      "pymnt_plan                              n\n",
      "purpose                       credit_card\n",
      "title                            Computer\n",
      "addr_state                             AZ\n",
      "dti                                 27.65\n",
      "delinq_2yrs                             0\n",
      "earliest_cr_line                 Jan-1985\n",
      "inq_last_6mths                          1\n",
      "open_acc                                3\n",
      "pub_rec                                 0\n",
      "revol_bal                           13648\n",
      "revol_util                          83.7%\n",
      "total_acc                               9\n",
      "initial_list_status                     f\n",
      "last_credit_pull_d               Jun-2016\n",
      "collections_12_mths_ex_med              0\n",
      "policy_code                             1\n",
      "application_type               INDIVIDUAL\n",
      "acc_now_delinq                          0\n",
      "chargeoff_within_12_mths                0\n",
      "delinq_amnt                             0\n",
      "pub_rec_bankruptcies                    0\n",
      "tax_liens                               0\n",
      "Name: 0, dtype: object\n",
      "32\n"
     ]
    }
   ],
   "source": [
    "#Working on deleteing columns\n",
    "loans_2007 = loans_2007.drop([\"total_rec_int\", \"total_rec_late_fee\", \"recoveries\", \"collection_recovery_fee\", \"last_pymnt_d\", \"last_pymnt_amnt\"], axis=1)\n",
    "#Display the first row and the number of columns\n",
    "print(loans_2007.iloc[0])\n",
    "print(loans_2007.shape[1])"
   ]
  },
  {
   "cell_type": "markdown",
   "metadata": {},
   "source": [
    "Finding: Reduced column numbers from 52 to 34."
   ]
  },
  {
   "cell_type": "markdown",
   "metadata": {},
   "source": [
    "## Choose a target column\n",
    "1. Let's use 'loan_status' column as it tells whether the loan is paid off on time. \n",
    "2. Convert columns that include texts to numbers so that I can train a model. "
   ]
  },
  {
   "cell_type": "code",
   "execution_count": 14,
   "metadata": {
    "collapsed": false
   },
   "outputs": [
    {
     "name": "stdout",
     "output_type": "stream",
     "text": [
      "Fully Paid                                             33136\n",
      "Charged Off                                             5634\n",
      "Does not meet the credit policy. Status:Fully Paid      1988\n",
      "Current                                                  961\n",
      "Does not meet the credit policy. Status:Charged Off      761\n",
      "Late (31-120 days)                                        24\n",
      "In Grace Period                                           20\n",
      "Late (16-30 days)                                          8\n",
      "Default                                                    3\n",
      "Name: loan_status, dtype: int64\n"
     ]
    }
   ],
   "source": [
    "#Convert texts to numbers\n",
    "print(loans_2007['loan_status'].value_counts())"
   ]
  },
  {
   "cell_type": "markdown",
   "metadata": {},
   "source": [
    "## Binary classification\n",
    "1. According to the Lending club website, there are 8 different meanings attached to 'loan_status'. \n",
    "2. Among many columns, 'Fully Paid' and 'Charged off' columns will show the results of loans.\n",
    "3. Use binary classification to test where a loan falls out of two values. "
   ]
  },
  {
   "cell_type": "code",
   "execution_count": 15,
   "metadata": {
    "collapsed": false
   },
   "outputs": [],
   "source": [
    "#Remove all rows other than two columns\n",
    "loans_2007 = loans_2007[(loans_2007['loan_status'] == \"Fully Paid\") | (loans_2007['loan_status'] == \"Charged Off\")]\n",
    "#Use the DataFrame methoc replace to mark 'Fully Paid' as 1 and 'Charged Off' as 0. \n",
    "status_replace = {\n",
    "    \"loan_status\" : {\n",
    "        \"Fully Paid\": 1,\n",
    "        \"Charged Off\": 0,\n",
    "    }\n",
    "}\n",
    "loans_2007 = loans_2007.replace(status_replace)"
   ]
  },
  {
   "cell_type": "markdown",
   "metadata": {},
   "source": [
    "Finding: Since there are way more loans that are fully paid off than the loans that are charged off, the class imbalance might happen. I need to keep in mind that this training might bring the model to have a strong bias towards a training set with more observations."
   ]
  },
  {
   "cell_type": "markdown",
   "metadata": {},
   "source": [
    "## Drop values\n",
    "1. Delete the vaues that contain only one unique value so that there will be reduced number of columns that the model will go through (increase the productivity). "
   ]
  },
  {
   "cell_type": "code",
   "execution_count": 16,
   "metadata": {
    "collapsed": false
   },
   "outputs": [
    {
     "name": "stdout",
     "output_type": "stream",
     "text": [
      "['pymnt_plan', 'initial_list_status', 'collections_12_mths_ex_med', 'policy_code', 'application_type', 'acc_now_delinq', 'chargeoff_within_12_mths', 'delinq_amnt', 'tax_liens']\n"
     ]
    }
   ],
   "source": [
    "#Create an empty list to keep track of columns I want to drop\n",
    "orig_columns = loans_2007.columns\n",
    "drop_columns = []\n",
    "#Use the dropna method to remove null values\n",
    "#Use the unique method to compute the number of unique values\n",
    "for col in orig_columns:\n",
    "    col_series = loans_2007[col].dropna().unique()\n",
    "    #Return the number of values\n",
    "    if len(col_series) == 1:\n",
    "        #Append values\n",
    "        drop_columns.append(col)\n",
    "#Use the drop method to get rid of 'drop_columns'\n",
    "loans_2007 = loans_2007.drop(drop_columns, axis=1)\n",
    "#Display the result\n",
    "print(drop_columns)"
   ]
  },
  {
   "cell_type": "markdown",
   "metadata": {},
   "source": [
    "# Setting up the features\n",
    "1. Since scikit-learn returns an error if the model contains missing values, let's compute the number of missing values."
   ]
  },
  {
   "cell_type": "markdown",
   "metadata": {},
   "source": [
    "## Return the missing values\n",
    "1. To return the missing values, let's use isnull to return a DataFrame containing Boolean values.\n",
    "2. Use the method sum to calculate the number of num values."
   ]
  },
  {
   "cell_type": "code",
   "execution_count": 19,
   "metadata": {
    "collapsed": false
   },
   "outputs": [
    {
     "name": "stdout",
     "output_type": "stream",
     "text": [
      "id                               0\n",
      "member_id                        3\n",
      "loan_amnt                        3\n",
      "funded_amnt                      3\n",
      "funded_amnt_inv                  3\n",
      "term                             3\n",
      "int_rate                         3\n",
      "installment                      3\n",
      "grade                            3\n",
      "sub_grade                        3\n",
      "emp_title                     2627\n",
      "emp_length                       3\n",
      "home_ownership                   3\n",
      "annual_inc                       7\n",
      "verification_status              3\n",
      "issue_d                          3\n",
      "loan_status                      3\n",
      "pymnt_plan                       3\n",
      "purpose                          3\n",
      "title                           15\n",
      "zip_code                         3\n",
      "addr_state                       3\n",
      "dti                              3\n",
      "delinq_2yrs                     32\n",
      "earliest_cr_line                32\n",
      "inq_last_6mths                  32\n",
      "open_acc                        32\n",
      "pub_rec                         32\n",
      "revol_bal                        3\n",
      "revol_util                      93\n",
      "total_acc                       32\n",
      "initial_list_status              3\n",
      "out_prncp                        3\n",
      "out_prncp_inv                    3\n",
      "total_pymnt                      3\n",
      "total_pymnt_inv                  3\n",
      "total_rec_prncp                  3\n",
      "total_rec_int                    3\n",
      "total_rec_late_fee               3\n",
      "recoveries                       3\n",
      "collection_recovery_fee          3\n",
      "last_pymnt_d                    86\n",
      "last_pymnt_amnt                  3\n",
      "last_credit_pull_d               7\n",
      "collections_12_mths_ex_med     148\n",
      "policy_code                      3\n",
      "application_type                 3\n",
      "acc_now_delinq                  32\n",
      "chargeoff_within_12_mths       148\n",
      "delinq_amnt                     32\n",
      "pub_rec_bankruptcies          1368\n",
      "tax_liens                      108\n",
      "dtype: int64\n"
     ]
    }
   ],
   "source": [
    "loans = pd.read_csv(\"loans_2007.csv\", low_memory=False)\n",
    "#Return the number of missing values using isnull and sum\n",
    "null_counts = loans.isnull().sum()\n",
    "print(null_counts)"
   ]
  },
  {
   "cell_type": "markdown",
   "metadata": {},
   "source": [
    "## Remove null values\n",
    "1. Remove the column that contains too many null values. In this case, I am going to delete 'pub_rec_bankruptcies'."
   ]
  },
  {
   "cell_type": "code",
   "execution_count": 20,
   "metadata": {
    "collapsed": false
   },
   "outputs": [
    {
     "name": "stdout",
     "output_type": "stream",
     "text": [
      "float64    29\n",
      "object     22\n",
      "dtype: int64\n"
     ]
    }
   ],
   "source": [
    "#Remove the 'pub_rec_bankruptcies' column and remove rows from loans containing missing values within 'title,' 'revol_util,' and 'last_credit_pull_d'\n",
    "loans = loans.drop(\"pub_rec_bankruptcies\", axis=1)\n",
    "#Drop rows with missing values all across\n",
    "loans = loans.dropna(axis=0)\n",
    "#Return the counts for each column\n",
    "print(loans.dtypes.value_counts())"
   ]
  },
  {
   "cell_type": "markdown",
   "metadata": {},
   "source": [
    "## Convert values\n",
    "1. Convert object columns from texts to numbers."
   ]
  },
  {
   "cell_type": "code",
   "execution_count": 21,
   "metadata": {
    "collapsed": false
   },
   "outputs": [
    {
     "name": "stdout",
     "output_type": "stream",
     "text": [
      "id                             1077430\n",
      "term                         60 months\n",
      "int_rate                        15.27%\n",
      "grade                                C\n",
      "sub_grade                           C4\n",
      "emp_title                        Ryder\n",
      "emp_length                    < 1 year\n",
      "home_ownership                    RENT\n",
      "verification_status    Source Verified\n",
      "issue_d                       Dec-2011\n",
      "loan_status                Charged Off\n",
      "pymnt_plan                           n\n",
      "purpose                            car\n",
      "title                             bike\n",
      "zip_code                         309xx\n",
      "addr_state                          GA\n",
      "earliest_cr_line              Apr-1999\n",
      "revol_util                        9.4%\n",
      "initial_list_status                  f\n",
      "last_pymnt_d                  Apr-2013\n",
      "last_credit_pull_d            Sep-2013\n",
      "application_type            INDIVIDUAL\n",
      "Name: 1, dtype: object\n"
     ]
    }
   ],
   "source": [
    "#Convert texts in the object columns to numbers using select_dtypes\n",
    "object_columns_df = loans.select_dtypes(include=[\"object\"])\n",
    "#Assign the results to 'object_columns_df'\n",
    "print(object_columns_df.iloc[0])"
   ]
  },
  {
   "cell_type": "markdown",
   "metadata": {},
   "source": [
    "## Categorical values\n",
    "1. Check categorical values to confirm the number of unique values.\n",
    "2. Explore unique values in 'purpose' and 'title'. "
   ]
  },
  {
   "cell_type": "code",
   "execution_count": 22,
   "metadata": {
    "collapsed": false
   },
   "outputs": [
    {
     "name": "stdout",
     "output_type": "stream",
     "text": [
      "RENT        18990\n",
      "MORTGAGE    17725\n",
      "OWN          2809\n",
      "OTHER         130\n",
      "NONE            2\n",
      "Name: home_ownership, dtype: int64\n",
      "Not Verified       17317\n",
      "Verified           12568\n",
      "Source Verified     9771\n",
      "Name: verification_status, dtype: int64\n",
      "10+ years    8987\n",
      "2 years      4589\n",
      "< 1 year     4548\n",
      "3 years      4221\n",
      "4 years      3545\n",
      "1 year       3439\n",
      "5 years      3330\n",
      "6 years      2289\n",
      "7 years      1816\n",
      "8 years      1536\n",
      "9 years      1298\n",
      "n/a            58\n",
      "Name: emp_length, dtype: int64\n",
      " 36 months    29230\n",
      " 60 months    10426\n",
      "Name: term, dtype: int64\n",
      "CA    6942\n",
      "NY    3797\n",
      "FL    2864\n",
      "TX    2738\n",
      "NJ    1879\n",
      "IL    1576\n",
      "PA    1550\n",
      "GA    1409\n",
      "VA    1397\n",
      "MA    1329\n",
      "OH    1259\n",
      "MD    1067\n",
      "AZ     844\n",
      "WA     811\n",
      "CO     788\n",
      "NC     765\n",
      "CT     742\n",
      "MI     739\n",
      "MO     706\n",
      "MN     604\n",
      "NV     491\n",
      "WI     466\n",
      "SC     458\n",
      "AL     453\n",
      "OR     434\n",
      "LA     430\n",
      "KY     337\n",
      "OK     301\n",
      "KS     276\n",
      "UT     259\n",
      "AR     243\n",
      "DC     218\n",
      "RI     201\n",
      "NM     187\n",
      "WV     171\n",
      "NH     170\n",
      "HI     167\n",
      "DE     130\n",
      "MT      83\n",
      "AK      82\n",
      "WY      82\n",
      "SD      60\n",
      "VT      53\n",
      "TN      30\n",
      "MS      25\n",
      "IN      13\n",
      "IA      12\n",
      "ID       8\n",
      "NE       8\n",
      "ME       2\n",
      "Name: addr_state, dtype: int64\n"
     ]
    }
   ],
   "source": [
    "#Take a look at these columns that seem to contain categorical values\n",
    "cols = ['home_ownership', 'verification_status', 'emp_length', 'term', 'addr_state']\n",
    "for c in cols:\n",
    "    print(loans[c].value_counts())"
   ]
  },
  {
   "cell_type": "markdown",
   "metadata": {},
   "source": [
    "Finding: Clean the 'emp_length' column to treat it as numerical"
   ]
  },
  {
   "cell_type": "code",
   "execution_count": 23,
   "metadata": {
    "collapsed": false
   },
   "outputs": [
    {
     "name": "stdout",
     "output_type": "stream",
     "text": [
      "debt_consolidation    18818\n",
      "credit_card            5119\n",
      "other                  4052\n",
      "home_improvement       2948\n",
      "major_purchase         2150\n",
      "small_business         1604\n",
      "car                    1520\n",
      "wedding                 961\n",
      "medical                 701\n",
      "moving                  576\n",
      "house                   388\n",
      "educational             374\n",
      "vacation                354\n",
      "renewable_energy         91\n",
      "Name: purpose, dtype: int64\n",
      "Debt Consolidation                                 2158\n",
      "Debt Consolidation Loan                            1678\n",
      "Personal Loan                                       678\n",
      "Consolidation                                       528\n",
      "debt consolidation                                  498\n",
      "Credit Card Consolidation                           355\n",
      "Home Improvement                                    353\n",
      "Debt consolidation                                  330\n",
      "Personal                                            311\n",
      "Credit Card Loan                                    303\n",
      "Small Business Loan                                 261\n",
      "Consolidation Loan                                  260\n",
      "personal loan                                       251\n",
      "Home Improvement Loan                               237\n",
      "personal                                            228\n",
      "Wedding Loan                                        209\n",
      "Loan                                                208\n",
      "consolidation                                       202\n",
      "Car Loan                                            197\n",
      "Other Loan                                          171\n",
      "Credit Card Payoff                                  156\n",
      "Wedding                                             154\n",
      "Credit Card Refinance                               141\n",
      "Consolidate                                         137\n",
      "Major Purchase Loan                                 133\n",
      "Medical                                             114\n",
      "Credit Card                                         113\n",
      "home improvement                                    109\n",
      "Credit Cards                                         93\n",
      "My Loan                                              91\n",
      "                                                   ... \n",
      "BOA payoff                                            1\n",
      "Finish paying of the flood of 2010!                   1\n",
      "Preparing for B-School                                1\n",
      "No more credit card debt                              1\n",
      "Cokie's DebtCon                                       1\n",
      "Debt Consolidation (Pay off Credit Cards              1\n",
      "Mirirai1                                              1\n",
      "Looking to Consolidate Some Debt.                     1\n",
      "Let's work together to drop my rate                   1\n",
      "Pulling It Together - Debt Consolidation              1\n",
      "Buy a condo                                           1\n",
      "CC Debt Consolidation & Refinance                     1\n",
      "MasterCard payoff                                     1\n",
      "Project                                               1\n",
      "Personnal                                             1\n",
      "Smiles                                                1\n",
      "not-for-profit prophet                                1\n",
      "Help with Financing NYC Apt Sec. Deposit              1\n",
      "Keeping My Word!                                      1\n",
      "Leaky Roof                                            1\n",
      "Business Expansion to Add New Location/Facility       1\n",
      "Short investment loan                                 1\n",
      "Kim's payoff                                          1\n",
      "New Year, New Beginnings                              1\n",
      "Building/Land Completion Loan                         1\n",
      "consolln                                              1\n",
      "Sell house                                            1\n",
      "Medical and debt consolodation                        1\n",
      "Business expansion loan                               1\n",
      "High Interest Credit card consolidation               1\n",
      "Name: title, dtype: int64\n"
     ]
    }
   ],
   "source": [
    "#Print unique values of 'purpose' and 'title' columns \n",
    "print(loans[\"purpose\"].value_counts())\n",
    "print(loans[\"title\"].value_counts())"
   ]
  },
  {
   "cell_type": "markdown",
   "metadata": {},
   "source": [
    "Finding: Since 'purpose' and 'title' columns have overlapping information, let's keep the 'purpose' column, which has some unique values. 'title' column has many repetitive information to other columns. "
   ]
  },
  {
   "cell_type": "code",
   "execution_count": 24,
   "metadata": {
    "collapsed": true
   },
   "outputs": [],
   "source": [
    "#Keep 'home_ownership', 'verification_status', 'emp_length', 'term', and 'purpose'\n",
    "#Clean 'emp_length column' \n",
    "#Assume 10+ years have worked only 10 years, people who worked less than a year or n/a as 0\n",
    "#Remove 'addr_state,' 'last_credit_pull_d,' 'title,' and 'earliest_cr_line' because they would make DataFrame larger and slow down\n",
    "mapping_dict = {\n",
    "    \"emp_length\": {\n",
    "        \"10+ years\": 10,\n",
    "        \"9 years\": 9,\n",
    "        \"8 years\": 8,\n",
    "        \"7 years\": 7,\n",
    "        \"6 years\": 6,\n",
    "        \"5 years\": 5,\n",
    "        \"4 years\": 4,\n",
    "        \"3 years\": 3,\n",
    "        \"2 years\": 2,\n",
    "        \"1 year\": 1,\n",
    "        \"< 1 year\": 0,\n",
    "        \"n/a\": 0\n",
    "    }\n",
    "}\n",
    "#Strip the percentage sign \n",
    "loans = loans.drop([\"last_credit_pull_d\", \"earliest_cr_line\", \"addr_state\", \"title\"], axis=1)\n",
    "#Use 'astype' method to convert to the float type\n",
    "loans[\"int_rate\"] = loans[\"int_rate\"].str.rstrip(\"%\").astype(\"float\")\n",
    "loans[\"revol_util\"] = loans[\"revol_util\"].str.rstrip(\"%\").astype(\"float\")\n",
    "#Clean 'emp_length' column\n",
    "loans = loans.replace(mapping_dict)"
   ]
  },
  {
   "cell_type": "markdown",
   "metadata": {},
   "source": [
    "## Dummy columns\n",
    "1. Encode some columns as dummy variables to use them in the model. \n",
    "2. Apply 'get_dummies' method and return a new DataFrame. \n",
    "3. Use the concat method to add dummy columns back to the origial DataFrame.\n",
    "4. Use the drop method to drop the original DataFrame columns."
   ]
  },
  {
   "cell_type": "code",
   "execution_count": 25,
   "metadata": {
    "collapsed": false
   },
   "outputs": [],
   "source": [
    "#concat 'home_ownership', 'verification_status', 'title', and 'term' columns as dummy and put them back to loans_2007\n",
    "cat_columns = [\"home_ownership\", \"verification_status\", \"emp_length\", \"purpose\", \"term\"]\n",
    "dummy_df = pd.get_dummies(loans[cat_columns])\n",
    "loans = pd.concat([loans, dummy_df], axis=1)\n",
    "loans = loans.drop(cat_columns, axis=1)"
   ]
  },
  {
   "cell_type": "markdown",
   "metadata": {},
   "source": [
    "Finding: Converted all of the columns to numerical values since I am using scikit-learn code. After this, I fixed columns that had data leakage issues, contained redundant information, required additional processing to turn them into useful features."
   ]
  },
  {
   "cell_type": "markdown",
   "metadata": {},
   "source": [
    "# Making predictions\n",
    "1. Train the model and calculate cross validation."
   ]
  },
  {
   "cell_type": "markdown",
   "metadata": {},
   "source": [
    "## Read data\n",
    "1. Let's take a look at the clean version."
   ]
  },
  {
   "cell_type": "code",
   "execution_count": 26,
   "metadata": {
    "collapsed": false
   },
   "outputs": [
    {
     "name": "stdout",
     "output_type": "stream",
     "text": [
      "<class 'pandas.core.frame.DataFrame'>\n",
      "RangeIndex: 42538 entries, 0 to 42537\n",
      "Data columns (total 52 columns):\n",
      "id                            42538 non-null object\n",
      "member_id                     42535 non-null float64\n",
      "loan_amnt                     42535 non-null float64\n",
      "funded_amnt                   42535 non-null float64\n",
      "funded_amnt_inv               42535 non-null float64\n",
      "term                          42535 non-null object\n",
      "int_rate                      42535 non-null object\n",
      "installment                   42535 non-null float64\n",
      "grade                         42535 non-null object\n",
      "sub_grade                     42535 non-null object\n",
      "emp_title                     39911 non-null object\n",
      "emp_length                    42535 non-null object\n",
      "home_ownership                42535 non-null object\n",
      "annual_inc                    42531 non-null float64\n",
      "verification_status           42535 non-null object\n",
      "issue_d                       42535 non-null object\n",
      "loan_status                   42535 non-null object\n",
      "pymnt_plan                    42535 non-null object\n",
      "purpose                       42535 non-null object\n",
      "title                         42523 non-null object\n",
      "zip_code                      42535 non-null object\n",
      "addr_state                    42535 non-null object\n",
      "dti                           42535 non-null float64\n",
      "delinq_2yrs                   42506 non-null float64\n",
      "earliest_cr_line              42506 non-null object\n",
      "inq_last_6mths                42506 non-null float64\n",
      "open_acc                      42506 non-null float64\n",
      "pub_rec                       42506 non-null float64\n",
      "revol_bal                     42535 non-null float64\n",
      "revol_util                    42445 non-null object\n",
      "total_acc                     42506 non-null float64\n",
      "initial_list_status           42535 non-null object\n",
      "out_prncp                     42535 non-null float64\n",
      "out_prncp_inv                 42535 non-null float64\n",
      "total_pymnt                   42535 non-null float64\n",
      "total_pymnt_inv               42535 non-null float64\n",
      "total_rec_prncp               42535 non-null float64\n",
      "total_rec_int                 42535 non-null float64\n",
      "total_rec_late_fee            42535 non-null float64\n",
      "recoveries                    42535 non-null float64\n",
      "collection_recovery_fee       42535 non-null float64\n",
      "last_pymnt_d                  42452 non-null object\n",
      "last_pymnt_amnt               42535 non-null float64\n",
      "last_credit_pull_d            42531 non-null object\n",
      "collections_12_mths_ex_med    42390 non-null float64\n",
      "policy_code                   42535 non-null float64\n",
      "application_type              42535 non-null object\n",
      "acc_now_delinq                42506 non-null float64\n",
      "chargeoff_within_12_mths      42390 non-null float64\n",
      "delinq_amnt                   42506 non-null float64\n",
      "pub_rec_bankruptcies          41170 non-null float64\n",
      "tax_liens                     42430 non-null float64\n",
      "dtypes: float64(30), object(22)\n",
      "memory usage: 16.9+ MB\n",
      "None\n"
     ]
    }
   ],
   "source": [
    "loans = pd.read_csv(\"loans_2007.csv\", low_memory=False)\n",
    "print(loans.info())"
   ]
  }
 ],
 "metadata": {
  "anaconda-cloud": {},
  "kernelspec": {
   "display_name": "Python [conda root]",
   "language": "python",
   "name": "conda-root-py"
  },
  "language_info": {
   "codemirror_mode": {
    "name": "ipython",
    "version": 3
   },
   "file_extension": ".py",
   "mimetype": "text/x-python",
   "name": "python",
   "nbconvert_exporter": "python",
   "pygments_lexer": "ipython3",
   "version": "3.5.2"
  }
 },
 "nbformat": 4,
 "nbformat_minor": 1
}
