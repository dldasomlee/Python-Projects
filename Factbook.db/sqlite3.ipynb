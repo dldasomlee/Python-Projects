{
 "cells": [
  {
   "cell_type": "markdown",
   "metadata": {},
   "source": [
    "## Read data"
   ]
  },
  {
   "cell_type": "code",
   "execution_count": 12,
   "metadata": {
    "collapsed": true
   },
   "outputs": [],
   "source": [
    "#import required libraries\n",
    "import sqlite3\n",
    "import pandas as pd "
   ]
  },
  {
   "cell_type": "code",
   "execution_count": 13,
   "metadata": {
    "collapsed": false
   },
   "outputs": [],
   "source": [
    "#connect to the database\n",
    "conn = sqlite3.connect(\"factbook.db\")"
   ]
  },
  {
   "cell_type": "code",
   "execution_count": 14,
   "metadata": {
    "collapsed": false
   },
   "outputs": [
    {
     "name": "stdout",
     "output_type": "stream",
     "text": [
      "(0, 'id', 'INTEGER', 1, None, 1)\n",
      "(1, 'code', 'varchar(255)', 1, None, 0)\n",
      "(2, 'name', 'varchar(255)', 1, None, 0)\n",
      "(3, 'area', 'integer', 0, None, 0)\n",
      "(4, 'area_land', 'integer', 0, None, 0)\n",
      "(5, 'area_water', 'integer', 0, None, 0)\n",
      "(6, 'population', 'integer', 0, None, 0)\n",
      "(7, 'population_growth', 'float', 0, None, 0)\n",
      "(8, 'birth_rate', 'float', 0, None, 0)\n",
      "(9, 'death_rate', 'float', 0, None, 0)\n",
      "(10, 'migration_rate', 'float', 0, None, 0)\n",
      "(11, 'created_at', 'datetime', 0, None, 0)\n",
      "(12, 'updated_at', 'datetime', 0, None, 0)\n"
     ]
    }
   ],
   "source": [
    "# return facts table and assign them to schema\n",
    "schema = conn.execute(\"pragma table_info(facts);\").fetchall()\n",
    "for s in schema:\n",
    "    print(s)"
   ]
  },
  {
   "cell_type": "markdown",
   "metadata": {},
   "source": [
    "## Create index statement"
   ]
  },
  {
   "cell_type": "code",
   "execution_count": 19,
   "metadata": {
    "collapsed": false
   },
   "outputs": [
    {
     "name": "stdout",
     "output_type": "stream",
     "text": [
      "[(0, 0, 0, 'SCAN TABLE facts')]\n",
      "[(0, 0, 0, 'SEARCH TABLE facts USING INDEX pop_idx (population>?)')]\n"
     ]
    }
   ],
   "source": [
    "# Query plan\n",
    "query_plan_one = conn.execute(\"explain query plan select * from facts where population > 10000 ;\").fetchall()\n",
    "print(query_plan_one)\n",
    "conn.execute(\"create index if not exists pop_idx on facts(population)\")\n",
    "query_plan_two = conn.execute(\"explain query plan select * from facts where population > 10000 ;\").fetchall()\n",
    "print(query_plan_two)"
   ]
  },
  {
   "cell_type": "code",
   "execution_count": 21,
   "metadata": {
    "collapsed": false
   },
   "outputs": [
    {
     "name": "stdout",
     "output_type": "stream",
     "text": [
      "[(0, 0, 0, 'SEARCH TABLE facts USING INDEX pop_growth_idx (population_growth<?)')]\n"
     ]
    }
   ],
   "source": [
    "# Check if the table meets where constraints\n",
    "query_plan_three = conn.execute(\"explain query plan select * from facts where population > 1000000 and population_growth < 0.05;\").fetchall()\n",
    "print(query_plan_three)"
   ]
  },
  {
   "cell_type": "code",
   "execution_count": 20,
   "metadata": {
    "collapsed": false
   },
   "outputs": [
    {
     "name": "stdout",
     "output_type": "stream",
     "text": [
      "[(0, 0, 0, 'SEARCH TABLE facts USING INDEX pop_growth_idx (population_growth<?)')]\n"
     ]
    }
   ],
   "source": [
    "# Multi column queries\n",
    "conn.execute(\"create index if not exists pop_idx on facts(population);\").fetchall()\n",
    "conn.execute(\"create index if not exists pop_growth_idx on facts(population_growth);\").fetchall()\n",
    "query_plan_four = conn.execute(\"explain query plan select * from facts where population > 1000000 and population_growth < 0.05;\").fetchall()\n",
    "print(query_plan_four)"
   ]
  },
  {
   "cell_type": "code",
   "execution_count": 22,
   "metadata": {
    "collapsed": false
   },
   "outputs": [
    {
     "name": "stdout",
     "output_type": "stream",
     "text": [
      "[(0, 0, 0, 'SEARCH TABLE facts USING INDEX pop_pop_growth_idx (population>?)')]\n"
     ]
    }
   ],
   "source": [
    "# Specify two columns in the ON statement\n",
    "conn.execute(\"create index if not exists pop_pop_growth_idx on facts(population, population_growth);\")\n",
    "query_plan_five = conn.execute(\"explain query plan select * from facts where population > 1000000 and population_growth < 0.05;\").fetchall()\n",
    "print(query_plan_five)"
   ]
  },
  {
   "cell_type": "code",
   "execution_count": 23,
   "metadata": {
    "collapsed": false
   },
   "outputs": [
    {
     "name": "stdout",
     "output_type": "stream",
     "text": [
      "[(0, 0, 0, 'SEARCH TABLE facts USING COVERING INDEX pop_pop_growth_idx (population>?)')]\n"
     ]
    }
   ],
   "source": [
    "# Covering index\n",
    "conn.execute(\"create index if not exists pop_pop_growth_idx on facts(population, population_growth);\")\n",
    "query_plan_six = conn.execute(\"explain query plan select population, population_growth from facts where population > 1000000 and population_growth < 0.05;\").fetchall()\n",
    "print(query_plan_six)"
   ]
  },
  {
   "cell_type": "code",
   "execution_count": 24,
   "metadata": {
    "collapsed": false
   },
   "outputs": [
    {
     "name": "stdout",
     "output_type": "stream",
     "text": [
      "[(0, 0, 0, 'SEARCH TABLE facts USING COVERING INDEX pop_idx (population>?)')]\n"
     ]
    }
   ],
   "source": [
    "# Covering a single column index\n",
    "conn.execute(\"create index if not exists pop_pop_growth_idx on facts(population, population_growth);\")\n",
    "query_plan_seven = conn.execute(\"explain query plan select population from facts where population > 1000000;\").fetchall()\n",
    "print(query_plan_seven)"
   ]
  }
 ],
 "metadata": {
  "anaconda-cloud": {},
  "kernelspec": {
   "display_name": "Python [default]",
   "language": "python",
   "name": "python3"
  },
  "language_info": {
   "codemirror_mode": {
    "name": "ipython",
    "version": 3
   },
   "file_extension": ".py",
   "mimetype": "text/x-python",
   "name": "python",
   "nbconvert_exporter": "python",
   "pygments_lexer": "ipython3",
   "version": "3.5.2"
  }
 },
 "nbformat": 4,
 "nbformat_minor": 1
}
