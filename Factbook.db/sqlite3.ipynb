{
 "cells": [
  {
   "cell_type": "markdown",
   "metadata": {},
   "source": [
    "## Read data\n",
    "\n",
    "1. Import the sqlite 3 library and connect to factbook.db database.\n",
    "2. Write a query that returns facts table and assign the results to schema."
   ]
  },
  {
   "cell_type": "code",
   "execution_count": 12,
   "metadata": {
    "collapsed": true
   },
   "outputs": [],
   "source": [
    "#import required libraries\n",
    "import sqlite3\n",
    "import pandas as pd "
   ]
  },
  {
   "cell_type": "code",
   "execution_count": 13,
   "metadata": {
    "collapsed": false
   },
   "outputs": [],
   "source": [
    "#connect to the database\n",
    "conn = sqlite3.connect(\"factbook.db\")"
   ]
  },
  {
   "cell_type": "code",
   "execution_count": 14,
   "metadata": {
    "collapsed": false
   },
   "outputs": [
    {
     "name": "stdout",
     "output_type": "stream",
     "text": [
      "(0, 'id', 'INTEGER', 1, None, 1)\n",
      "(1, 'code', 'varchar(255)', 1, None, 0)\n",
      "(2, 'name', 'varchar(255)', 1, None, 0)\n",
      "(3, 'area', 'integer', 0, None, 0)\n",
      "(4, 'area_land', 'integer', 0, None, 0)\n",
      "(5, 'area_water', 'integer', 0, None, 0)\n",
      "(6, 'population', 'integer', 0, None, 0)\n",
      "(7, 'population_growth', 'float', 0, None, 0)\n",
      "(8, 'birth_rate', 'float', 0, None, 0)\n",
      "(9, 'death_rate', 'float', 0, None, 0)\n",
      "(10, 'migration_rate', 'float', 0, None, 0)\n",
      "(11, 'created_at', 'datetime', 0, None, 0)\n",
      "(12, 'updated_at', 'datetime', 0, None, 0)\n"
     ]
    }
   ],
   "source": [
    "# return facts table and assign them to schema\n",
    "schema = conn.execute(\"pragma table_info(facts);\").fetchall()\n",
    "for s in schema:\n",
    "    print(s)"
   ]
  },
  {
   "cell_type": "markdown",
   "metadata": {},
   "source": [
    "## Create index statement\n",
    "\n",
    "1. Use the 'create index' statement to specify a column I want an index table for and SQLite to take care of the rest. Btw, using the 'explain query plan' gives only a high-leve query plan.\n",
    "2. Practice creating an index for the 'area' column called 'area_idx', so that SQLite can use the index to search for rows in 'facts'. Although this gives speed benefits, the preparation time might take longer since each index needs to be stored in the database file. So let's use this only when I know which column to use for querying. "
   ]
  },
  {
   "cell_type": "code",
   "execution_count": 19,
   "metadata": {
    "collapsed": false
   },
   "outputs": [
    {
     "name": "stdout",
     "output_type": "stream",
     "text": [
      "[(0, 0, 0, 'SCAN TABLE facts')]\n",
      "[(0, 0, 0, 'SEARCH TABLE facts USING INDEX pop_idx (population>?)')]\n"
     ]
    }
   ],
   "source": [
    "# Query plan\n",
    "query_plan_one = conn.execute(\"explain query plan select * from facts where population > 10000 ;\").fetchall()\n",
    "print(query_plan_one)\n",
    "conn.execute(\"create index if not exists pop_idx on facts(population)\")\n",
    "query_plan_two = conn.execute(\"explain query plan select * from facts where population > 10000 ;\").fetchall()\n",
    "print(query_plan_two)"
   ]
  },
  {
   "cell_type": "markdown",
   "metadata": {},
   "source": [
    "1. Practice creating indexes for multiple columns and also try to speed up queries by creating the 'name' column. First, let's try using the 'explain query plan' statement and filter more than one column to see what SQLite returns. As this make SQLite scsn a full table, let's try with using both the 'population' and 'population_growth' columns. "
   ]
  },
  {
   "cell_type": "code",
   "execution_count": 21,
   "metadata": {
    "collapsed": false
   },
   "outputs": [
    {
     "name": "stdout",
     "output_type": "stream",
     "text": [
      "[(0, 0, 0, 'SEARCH TABLE facts USING INDEX pop_growth_idx (population_growth<?)')]\n"
     ]
    }
   ],
   "source": [
    "# Check if the table meets where constraints\n",
    "query_plan_three = conn.execute(\"explain query plan select * from facts where population > 1000000 and population_growth < 0.05;\").fetchall()\n",
    "print(query_plan_three)"
   ]
  },
  {
   "cell_type": "markdown",
   "metadata": {},
   "source": [
    "Finding: SQLite chose 'pop_growth_idx' instead of 'pop_idx' and this seems like SQLite picked a random index out of two since there wasn't much addition to improve accuracy."
   ]
  },
  {
   "cell_type": "markdown",
   "metadata": {},
   "source": [
    "1. To create multi-column index, let's specify which of the columns I want as the primary key. "
   ]
  },
  {
   "cell_type": "code",
   "execution_count": 20,
   "metadata": {
    "collapsed": false
   },
   "outputs": [
    {
     "name": "stdout",
     "output_type": "stream",
     "text": [
      "[(0, 0, 0, 'SEARCH TABLE facts USING INDEX pop_growth_idx (population_growth<?)')]\n"
     ]
    }
   ],
   "source": [
    "# Multi column queries\n",
    "conn.execute(\"create index if not exists pop_idx on facts(population);\").fetchall()\n",
    "conn.execute(\"create index if not exists pop_growth_idx on facts(population_growth);\").fetchall()\n",
    "query_plan_four = conn.execute(\"explain query plan select * from facts where population > 1000000 and population_growth < 0.05;\").fetchall()\n",
    "print(query_plan_four)"
   ]
  },
  {
   "cell_type": "markdown",
   "metadata": {},
   "source": [
    "1. Let's use the same 'create index' syntax and specify two columns in the 'on' statement, which will help SQLite use binary search to find rows that match to 'population' and 'population_growth'."
   ]
  },
  {
   "cell_type": "code",
   "execution_count": 22,
   "metadata": {
    "collapsed": false
   },
   "outputs": [
    {
     "name": "stdout",
     "output_type": "stream",
     "text": [
      "[(0, 0, 0, 'SEARCH TABLE facts USING INDEX pop_pop_growth_idx (population>?)')]\n"
     ]
    }
   ],
   "source": [
    "# Specify two columns in the ON statement\n",
    "conn.execute(\"create index if not exists pop_pop_growth_idx on facts(population, population_growth);\")\n",
    "query_plan_five = conn.execute(\"explain query plan select * from facts where population > 1000000 and population_growth < 0.05;\").fetchall()\n",
    "print(query_plan_five)"
   ]
  },
  {
   "cell_type": "markdown",
   "metadata": {},
   "source": [
    "Finding: SQLite returned 'pop_pop_growth_idx' becase it only had to access the 'facts' table for the column values that matched to the 'where' criteria."
   ]
  },
  {
   "cell_type": "markdown",
   "metadata": {},
   "source": [
    "1. Restrict the columns in the 'select' to narrow the return in 'population' and 'population_growth'. This will make SQLite not interact with 'facts' table. This is going to be a practice for later when I need to use a larger data set. "
   ]
  },
  {
   "cell_type": "code",
   "execution_count": 23,
   "metadata": {
    "collapsed": false
   },
   "outputs": [
    {
     "name": "stdout",
     "output_type": "stream",
     "text": [
      "[(0, 0, 0, 'SEARCH TABLE facts USING COVERING INDEX pop_pop_growth_idx (population>?)')]\n"
     ]
    }
   ],
   "source": [
    "# Covering index\n",
    "conn.execute(\"create index if not exists pop_pop_growth_idx on facts(population, population_growth);\")\n",
    "query_plan_six = conn.execute(\"explain query plan select population, population_growth from facts where population > 1000000 and population_growth < 0.05;\").fetchall()\n",
    "print(query_plan_six)"
   ]
  },
  {
   "cell_type": "markdown",
   "metadata": {},
   "source": [
    "1. Switch the query plan. Use 'using covering index' to make SQLite use the covering index. "
   ]
  },
  {
   "cell_type": "code",
   "execution_count": 24,
   "metadata": {
    "collapsed": false
   },
   "outputs": [
    {
     "name": "stdout",
     "output_type": "stream",
     "text": [
      "[(0, 0, 0, 'SEARCH TABLE facts USING COVERING INDEX pop_idx (population>?)')]\n"
     ]
    }
   ],
   "source": [
    "# Covering a single column index\n",
    "conn.execute(\"create index if not exists pop_pop_growth_idx on facts(population, population_growth);\")\n",
    "query_plan_seven = conn.execute(\"explain query plan select population from facts where population > 1000000;\").fetchall()\n",
    "print(query_plan_seven)"
   ]
  },
  {
   "cell_type": "markdown",
   "metadata": {},
   "source": [
    "Finding: SQLite used 'pop_inx' to find 'population' values instead of scanning the 'facts' table.  "
   ]
  },
  {
   "cell_type": "markdown",
   "metadata": {},
   "source": [
    "Conclusion: This practice was to use 'factbook.db' to test various skills using SQLite. By giving guidelines in which data set I am looking for, SQLite showed me how each task was performed and also led me to look for other ways to make the process efficient. I hope to apply this skill set to a larger data set."
   ]
  }
 ],
 "metadata": {
  "anaconda-cloud": {},
  "kernelspec": {
   "display_name": "Python [default]",
   "language": "python",
   "name": "python3"
  },
  "language_info": {
   "codemirror_mode": {
    "name": "ipython",
    "version": 3
   },
   "file_extension": ".py",
   "mimetype": "text/x-python",
   "name": "python",
   "nbconvert_exporter": "python",
   "pygments_lexer": "ipython3",
   "version": "3.5.2"
  }
 },
 "nbformat": 4,
 "nbformat_minor": 1
}
