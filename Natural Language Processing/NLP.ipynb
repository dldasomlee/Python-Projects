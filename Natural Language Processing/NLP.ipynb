{
 "cells": [
  {
   "cell_type": "markdown",
   "metadata": {},
   "source": [
    "## Read data"
   ]
  },
  {
   "cell_type": "code",
   "execution_count": 10,
   "metadata": {
    "collapsed": true
   },
   "outputs": [],
   "source": [
    "#Choose four columns\n",
    "import pandas as pd\n",
    "submissions = pd.read_csv(\"stories.csv\")\n",
    "submissions.columns = [\"submission_time\", \"upvotes\", \"url\", \"headline\"]\n",
    "submissions = submissions.dropna()"
   ]
  },
  {
   "cell_type": "markdown",
   "metadata": {},
   "source": [
    "## Tokenization"
   ]
  },
  {
   "cell_type": "code",
   "execution_count": 11,
   "metadata": {
    "collapsed": true
   },
   "outputs": [],
   "source": [
    "#Split each headlines\n",
    "tokenized_headlines = []\n",
    "for item in submissions[\"headline\"]:\n",
    "    tokenized_headlines.append(item.split(\" \"))"
   ]
  },
  {
   "cell_type": "markdown",
   "metadata": {},
   "source": [
    "## Preprocessing"
   ]
  },
  {
   "cell_type": "code",
   "execution_count": 12,
   "metadata": {
    "collapsed": true
   },
   "outputs": [],
   "source": [
    "punctuation = [\",\", \":\", \";\", \".\", \"'\", '\"', \"’\", \"?\", \"/\", \"-\", \"+\", \"&\", \"(\", \")\"]\n",
    "clean_tokenized = []\n",
    "for item in tokenized_headlines:\n",
    "    tokens = []\n",
    "    for token in item:\n",
    "        token = token.lower()\n",
    "        for punc in punctuation:\n",
    "            token = token.replace(punc, \"\")\n",
    "        tokens.append(token)\n",
    "    clean_tokenized.append(tokens)"
   ]
  },
  {
   "cell_type": "markdown",
   "metadata": {},
   "source": [
    "## Convert to numerical representation"
   ]
  },
  {
   "cell_type": "code",
   "execution_count": 13,
   "metadata": {
    "collapsed": false
   },
   "outputs": [
    {
     "name": "stdout",
     "output_type": "stream",
     "text": [
      "        and  for  as  you  is  the  split  good  how  ...   lesson  places  \\\n",
      "0    0    0    0   0    0   0    0      0     0    0  ...        0       0   \n",
      "1    0    0    0   0    0   0    0      0     0    0  ...        0       0   \n",
      "2    0    0    0   0    0   0    0      0     0    0  ...        0       0   \n",
      "3    0    0    0   0    0   0    0      0     0    0  ...        0       0   \n",
      "4    0    0    0   0    0   0    0      0     0    0  ...        0       0   \n",
      "5    0    0    0   0    0   0    0      0     0    0  ...        0       0   \n",
      "6    0    0    0   0    0   0    0      0     0    0  ...        0       0   \n",
      "7    0    0    0   0    0   0    0      0     0    0  ...        0       0   \n",
      "8    0    0    0   0    0   0    0      0     0    0  ...        0       0   \n",
      "9    0    0    0   0    0   0    0      0     0    0  ...        0       0   \n",
      "10   0    0    0   0    0   0    0      0     0    0  ...        0       0   \n",
      "11   0    0    0   0    0   0    0      0     0    0  ...        0       0   \n",
      "12   0    0    0   0    0   0    0      0     0    0  ...        0       0   \n",
      "13   0    0    0   0    0   0    0      0     0    0  ...        0       0   \n",
      "14   0    0    0   0    0   0    0      0     0    0  ...        0       0   \n",
      "15   0    0    0   0    0   0    0      0     0    0  ...        0       0   \n",
      "16   0    0    0   0    0   0    0      0     0    0  ...        0       0   \n",
      "17   0    0    0   0    0   0    0      0     0    0  ...        0       0   \n",
      "18   0    0    0   0    0   0    0      0     0    0  ...        0       0   \n",
      "19   0    0    0   0    0   0    0      0     0    0  ...        0       0   \n",
      "20   0    0    0   0    0   0    0      0     0    0  ...        0       0   \n",
      "21   0    0    0   0    0   0    0      0     0    0  ...        0       0   \n",
      "22   0    0    0   0    0   0    0      0     0    0  ...        0       0   \n",
      "23   0    0    0   0    0   0    0      0     0    0  ...        0       0   \n",
      "24   0    0    0   0    0   0    0      0     0    0  ...        0       0   \n",
      "25   0    0    0   0    0   0    0      0     0    0  ...        0       0   \n",
      "26   0    0    0   0    0   0    0      0     0    0  ...        0       0   \n",
      "27   0    0    0   0    0   0    0      0     0    0  ...        0       0   \n",
      "28   0    0    0   0    0   0    0      0     0    0  ...        0       0   \n",
      "29   0    0    0   0    0   0    0      0     0    0  ...        0       0   \n",
      "..  ..  ...  ...  ..  ...  ..  ...    ...   ...  ...  ...      ...     ...   \n",
      "903  0    0    0   0    0   0    0      0     0    0  ...        0       0   \n",
      "904  0    0    0   0    0   0    0      0     0    0  ...        0       0   \n",
      "905  0    0    0   0    0   0    0      0     0    0  ...        0       0   \n",
      "906  0    0    0   0    0   0    0      0     0    0  ...        0       0   \n",
      "907  0    0    0   0    0   0    0      0     0    0  ...        0       0   \n",
      "908  0    0    0   0    0   0    0      0     0    0  ...        0       0   \n",
      "909  0    0    0   0    0   0    0      0     0    0  ...        0       0   \n",
      "910  0    0    0   0    0   0    0      0     0    0  ...        0       0   \n",
      "911  0    0    0   0    0   0    0      0     0    0  ...        0       0   \n",
      "912  0    0    0   0    0   0    0      0     0    0  ...        0       0   \n",
      "913  0    0    0   0    0   0    0      0     0    0  ...        0       0   \n",
      "914  0    0    0   0    0   0    0      0     0    0  ...        0       0   \n",
      "915  0    0    0   0    0   0    0      0     0    0  ...        0       0   \n",
      "916  0    0    0   0    0   0    0      0     0    0  ...        0       0   \n",
      "917  0    0    0   0    0   0    0      0     0    0  ...        0       0   \n",
      "918  0    0    0   0    0   0    0      0     0    0  ...        0       0   \n",
      "919  0    0    0   0    0   0    0      0     0    0  ...        0       0   \n",
      "920  0    0    0   0    0   0    0      0     0    0  ...        0       0   \n",
      "921  0    0    0   0    0   0    0      0     0    0  ...        0       0   \n",
      "922  0    0    0   0    0   0    0      0     0    0  ...        0       0   \n",
      "923  0    0    0   0    0   0    0      0     0    0  ...        0       0   \n",
      "924  0    0    0   0    0   0    0      0     0    0  ...        0       0   \n",
      "925  0    0    0   0    0   0    0      0     0    0  ...        0       0   \n",
      "926  0    0    0   0    0   0    0      0     0    0  ...        0       0   \n",
      "927  0    0    0   0    0   0    0      0     0    0  ...        0       0   \n",
      "928  0    0    0   0    0   0    0      0     0    0  ...        0       0   \n",
      "929  0    0    0   0    0   0    0      0     0    0  ...        0       0   \n",
      "930  0    0    0   0    0   0    0      0     0    0  ...        0       0   \n",
      "931  0    0    0   0    0   0    0      0     0    0  ...        0       0   \n",
      "932  0    0    0   0    0   0    0      0     0    0  ...        0       0   \n",
      "\n",
      "     tesla  nova  hackable  board  teens  100  download  suck  \n",
      "0        0     0         0      0      0    0         0     0  \n",
      "1        0     0         0      0      0    0         0     0  \n",
      "2        0     0         0      0      0    0         0     0  \n",
      "3        0     0         0      0      0    0         0     0  \n",
      "4        0     0         0      0      0    0         0     0  \n",
      "5        0     0         0      0      0    0         0     0  \n",
      "6        0     0         0      0      0    0         0     0  \n",
      "7        0     0         0      0      0    0         0     0  \n",
      "8        0     0         0      0      0    0         0     0  \n",
      "9        0     0         0      0      0    0         0     0  \n",
      "10       0     0         0      0      0    0         0     0  \n",
      "11       0     0         0      0      0    0         0     0  \n",
      "12       0     0         0      0      0    0         0     0  \n",
      "13       0     0         0      0      0    0         0     0  \n",
      "14       0     0         0      0      0    0         0     0  \n",
      "15       0     0         0      0      0    0         0     0  \n",
      "16       0     0         0      0      0    0         0     0  \n",
      "17       0     0         0      0      0    0         0     0  \n",
      "18       0     0         0      0      0    0         0     0  \n",
      "19       0     0         0      0      0    0         0     0  \n",
      "20       0     0         0      0      0    0         0     0  \n",
      "21       0     0         0      0      0    0         0     0  \n",
      "22       0     0         0      0      0    0         0     0  \n",
      "23       0     0         0      0      0    0         0     0  \n",
      "24       0     0         0      0      0    0         0     0  \n",
      "25       0     0         0      0      0    0         0     0  \n",
      "26       0     0         0      0      0    0         0     0  \n",
      "27       0     0         0      0      0    0         0     0  \n",
      "28       0     0         0      0      0    0         0     0  \n",
      "29       0     0         0      0      0    0         0     0  \n",
      "..     ...   ...       ...    ...    ...  ...       ...   ...  \n",
      "903      0     0         0      0      0    0         0     0  \n",
      "904      0     0         0      0      0    0         0     0  \n",
      "905      0     0         0      0      0    0         0     0  \n",
      "906      0     0         0      0      0    0         0     0  \n",
      "907      0     0         0      0      0    0         0     0  \n",
      "908      0     0         0      0      0    0         0     0  \n",
      "909      0     0         0      0      0    0         0     0  \n",
      "910      0     0         0      0      0    0         0     0  \n",
      "911      0     0         0      0      0    0         0     0  \n",
      "912      0     0         0      0      0    0         0     0  \n",
      "913      0     0         0      0      0    0         0     0  \n",
      "914      0     0         0      0      0    0         0     0  \n",
      "915      0     0         0      0      0    0         0     0  \n",
      "916      0     0         0      0      0    0         0     0  \n",
      "917      0     0         0      0      0    0         0     0  \n",
      "918      0     0         0      0      0    0         0     0  \n",
      "919      0     0         0      0      0    0         0     0  \n",
      "920      0     0         0      0      0    0         0     0  \n",
      "921      0     0         0      0      0    0         0     0  \n",
      "922      0     0         0      0      0    0         0     0  \n",
      "923      0     0         0      0      0    0         0     0  \n",
      "924      0     0         0      0      0    0         0     0  \n",
      "925      0     0         0      0      0    0         0     0  \n",
      "926      0     0         0      0      0    0         0     0  \n",
      "927      0     0         0      0      0    0         0     0  \n",
      "928      0     0         0      0      0    0         0     0  \n",
      "929      0     0         0      0      0    0         0     0  \n",
      "930      0     0         0      0      0    0         0     0  \n",
      "931      0     0         0      0      0    0         0     0  \n",
      "932      0     0         0      0      0    0         0     0  \n",
      "\n",
      "[933 rows x 870 columns]\n"
     ]
    }
   ],
   "source": [
    "import numpy as np\n",
    "# Find the unique tokens\n",
    "unique_tokens = []\n",
    "single_tokens = []\n",
    "for tokens in clean_tokenized:\n",
    "    for token in tokens:\n",
    "        if token not in single_tokens:\n",
    "            single_tokens.append(token)\n",
    "        elif token in single_tokens and token not in unique_tokens:\n",
    "            unique_tokens.append(token)\n",
    "# Dataframe with all zero values\n",
    "counts = pd.DataFrame(0, index=np.arange(len(clean_tokenized)), columns=unique_tokens)\n",
    "print(counts)"
   ]
  },
  {
   "cell_type": "markdown",
   "metadata": {},
   "source": [
    "## Enumerate tokens"
   ]
  },
  {
   "cell_type": "code",
   "execution_count": 14,
   "metadata": {
    "collapsed": true
   },
   "outputs": [],
   "source": [
    "# Find the column for the token\n",
    "for i, item in enumerate(clean_tokenized):\n",
    "    for token in item:\n",
    "        if token in unique_tokens:\n",
    "            counts.iloc[i][token] += 1"
   ]
  },
  {
   "cell_type": "markdown",
   "metadata": {},
   "source": [
    "## Remove extra"
   ]
  },
  {
   "cell_type": "code",
   "execution_count": 15,
   "metadata": {
    "collapsed": false
   },
   "outputs": [],
   "source": [
    "# Generate vetor for sums of columns in counts\n",
    "word_counts = counts.sum(axis=0)\n",
    "# Use loc to filter counts (less than 5 or more than 100)\n",
    "counts = counts.loc[:,(word_counts >= 5) & (word_counts <= 100)]"
   ]
  },
  {
   "cell_type": "markdown",
   "metadata": {},
   "source": [
    "## Split data"
   ]
  },
  {
   "cell_type": "code",
   "execution_count": 16,
   "metadata": {
    "collapsed": true
   },
   "outputs": [],
   "source": [
    "# Use train_test_split function\n",
    "from sklearn.cross_validation import train_test_split\n",
    "# 20% of rows for testing and 80% for training\n",
    "X_train, X_test, y_train, y_test = train_test_split(counts, submissions[\"upvotes\"], test_size=0.2, random_state=1)"
   ]
  },
  {
   "cell_type": "markdown",
   "metadata": {},
   "source": [
    "## Make predictions"
   ]
  },
  {
   "cell_type": "code",
   "execution_count": 17,
   "metadata": {
    "collapsed": false
   },
   "outputs": [],
   "source": [
    "# Use linear regression\n",
    "from sklearn.linear_model import LinearRegression\n",
    "# Train clf using the fit method\n",
    "clf = LinearRegression()\n",
    "clf.fit(X_train, y_train)\n",
    "# Predictions on X_test\n",
    "predictions = clf.predict(X_test)"
   ]
  },
  {
   "cell_type": "markdown",
   "metadata": {},
   "source": [
    "## Error"
   ]
  },
  {
   "cell_type": "code",
   "execution_count": 18,
   "metadata": {
    "collapsed": false
   },
   "outputs": [
    {
     "name": "stdout",
     "output_type": "stream",
     "text": [
      "2323.66357839\n"
     ]
    }
   ],
   "source": [
    "## Use MSE\n",
    "## Calculate the mean squared error \n",
    "mse = sum((y_test - predictions) ** 2) / len(predictions)\n",
    "print(mse)"
   ]
  }
 ],
 "metadata": {
  "anaconda-cloud": {},
  "kernelspec": {
   "display_name": "Python [conda root]",
   "language": "python",
   "name": "conda-root-py"
  },
  "language_info": {
   "codemirror_mode": {
    "name": "ipython",
    "version": 3
   },
   "file_extension": ".py",
   "mimetype": "text/x-python",
   "name": "python",
   "nbconvert_exporter": "python",
   "pygments_lexer": "ipython3",
   "version": "3.5.2"
  }
 },
 "nbformat": 4,
 "nbformat_minor": 1
}
